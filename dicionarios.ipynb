{
  "nbformat": 4,
  "nbformat_minor": 0,
  "metadata": {
    "colab": {
      "provenance": [],
      "toc_visible": true,
      "authorship_tag": "ABX9TyNyRRrErHz3k32dfQhh8Ib2",
      "include_colab_link": true
    },
    "kernelspec": {
      "name": "python3",
      "display_name": "Python 3"
    },
    "language_info": {
      "name": "python"
    }
  },
  "cells": [
    {
      "cell_type": "markdown",
      "metadata": {
        "id": "view-in-github",
        "colab_type": "text"
      },
      "source": [
        "<a href=\"https://colab.research.google.com/github/KarlaKsanova/P-programaci-n/blob/main/dicionarios.ipynb\" target=\"_parent\"><img src=\"https://colab.research.google.com/assets/colab-badge.svg\" alt=\"Open In Colab\"/></a>"
      ]
    },
    {
      "cell_type": "code",
      "execution_count": null,
      "metadata": {
        "colab": {
          "base_uri": "https://localhost:8080/"
        },
        "id": "tFPCnW7Dq7lq",
        "outputId": "a6b14616-c860-4dc1-ebfd-2e08bd7d5ebe"
      },
      "outputs": [
        {
          "output_type": "stream",
          "name": "stdout",
          "text": [
            "{1: 'Nombre', 2: 'Apellido', 3: 'Profesion', 4: 'Region'}\n",
            "{'azul': 'blue', 'negro': 'black', 'rosado': 'pink', 'anarangado': 'orange', 'blanco': 'white'}\n",
            "{'Alberto': 24, 'Joel': 26, 'Ana': 27, 'Victor': 28}\n",
            "{'Alberto': 24, 'Joel': 27, 'Ana': 27, 'Victor': 28}\n",
            "Alberto\n",
            "Joel\n",
            "Ana\n",
            "Victor\n",
            "{'Alberto': 24, 'Joel': 27, 'Ana': 27}\n"
          ]
        }
      ],
      "source": [
        "colores={\"azul\":\"blue\",\"negro\":\"black\",\"rosado\":\"pink\"}\n",
        "propiedades={1:\"Nombre\",2:\"Apellido\",3:\"Profesion\",4:\"Region\"}\n",
        "print(propiedades)\n",
        "\n",
        "colores[\"anarangado\"]= \"orange\"\n",
        "colores[\"blanco\"]= \"white\"\n",
        "print(colores)\n",
        "edades={\"Alberto\":24,\n",
        "        \"Joel\":26,\n",
        "        \"Ana\": 27,\n",
        "        \"Victor\":28}\n",
        "print (edades)\n",
        "edades[\"Joel\"]+=1\n",
        "print(edades)\n",
        "for c in  edades:\n",
        "  print(c)\n",
        "del(edades[\"Victor\"])\n",
        "print(edades)"
      ]
    },
    {
      "cell_type": "code",
      "source": [
        "\n",
        "#Práctica 1 diccionarios\n",
        "\"\"\"Escribir un programa que guarde en una variable el diccionario {'Euro':'€', 'Dollar':'$', 'Yen':'\\'}, S = 36 y = 165 := 190 euro= epsilon pregunte al usuario por una divisa y muestre su símbolo o un mensaje de aviso si la divisa no está en el diccionario.\"\"\"\n",
        "\n",
        "divisas = {'Euros': '€', 'Dollar': '$', 'Yen': '¥'}\n",
        "\n",
        "divisa = input(\"Ingrese una divisa: \")\n",
        "\n",
        "if divisa in divisas:\n",
        "    print(f\"El símbolo para {divisa} es {divisas[divisa]}\")\n",
        "else:\n",
        "    print(f\"{divisa} no es una divisa válida.\")"
      ],
      "metadata": {
        "colab": {
          "base_uri": "https://localhost:8080/"
        },
        "id": "7fUblAwT09h0",
        "outputId": "6f9d27ab-cc0d-48e9-eb4a-72c57891dff3"
      },
      "execution_count": null,
      "outputs": [
        {
          "output_type": "stream",
          "name": "stdout",
          "text": [
            "Ingrese una divisa: dolar\n",
            "dolar no es una divisa válida.\n"
          ]
        }
      ]
    },
    {
      "source": [
        "#practica 2\n",
        "#Escribir un programa que pregunte al usuario su nombre, edad, direccióny teléfono y lo guarde en un diccionario. Después de mostrar por pantalla el mensaje <nombre> tiene <edaanos, vive en <dirección> y su número de teléfono es <teléfono>.\"\"\"\n",
        "\n",
        "nombre = input(\"¿Cual es su nombre?: \")\n",
        "edad = int(input(\"Por favor ingrese su edad: \"))\n",
        "direccion = input(\"Ingrese su dirección: \")\n",
        "telefono = input(\"Ingrese su número de teléfono: \")\n",
        "informacion = {\"Nombre\": nombre, \"Edad\": edad, \"Direccion\": direccion, \"Telefono\": telefono}\n",
        "print (f\"{nombre} tiene {edad} años, vive en {direccion} y su número de teléfono es {telefono}\")"
      ],
      "cell_type": "code",
      "metadata": {
        "colab": {
          "base_uri": "https://localhost:8080/"
        },
        "id": "zuVjei-97_57",
        "outputId": "163db345-8e5d-4e7f-c7db-2489213b53db"
      },
      "execution_count": null,
      "outputs": [
        {
          "output_type": "stream",
          "name": "stdout",
          "text": [
            "¿Cual es su nombre?: Karla\n",
            "Por favor ingrese su edad: 19\n",
            "Ingrese su dirección: libertad 25\n",
            "Ingrese su número de teléfono: 5574478319\n",
            "Karla tiene 19 años, vive en libertad 25 y su número de teléfono es 5574478319\n"
          ]
        }
      ]
    },
    {
      "cell_type": "code",
      "source": [
        "#practica 3\n",
        "\n",
        "#Escribir un programa que guarde en ün diccionario los precios de las frutas de la tabla, pregunte al usuario por una fruta, un número de kilos y muestre por pantalla el precio de ese número de kilos de fruta.\n",
        "\n",
        "#Si la fruta no está en el diccionario debe mostrar un mensaje Informando de ello\n",
        "\n",
        "#Fruta      Precio\n",
        "\n",
        "#Plátano    20.00\n",
        "\n",
        "#Manzana    45.00\n",
        "\n",
        "#Pera       35.00\n",
        "\n",
        "#Naranja    7.50\n",
        "\n",
        "precios = {\"Plátano\": 20.00, \"Manzana\": 45.00, \"Pera\": 35.00, \"Naranja\": 7.50}\n",
        "fruta = input(\"Ingrese el nombre de la fruta: \").capitalize()\n",
        "kilos = float(input(\"Ingrese el número de kilos: \"))\n",
        "\n",
        "if fruta in precios:\n",
        "    precio = precios[fruta] * kilos\n",
        "    print(f\"El precio de {kilos} kilos de {fruta} es {precio:.2f} $\")\n",
        "else:\n",
        "    print(f\"{fruta} no está en el diccionario de precios de frutas.\")\n",
        "\n"
      ],
      "metadata": {
        "colab": {
          "base_uri": "https://localhost:8080/"
        },
        "id": "buDsNBaQ-vW7",
        "outputId": "6bc2f745-9d2e-4409-c352-e2c90034edf8"
      },
      "execution_count": null,
      "outputs": [
        {
          "output_type": "stream",
          "name": "stdout",
          "text": [
            "Ingrese el nombre de la fruta: naranja\n",
            "Ingrese el número de kilos: 5\n",
            "El precio de 5.0 kilos de Naranja es 37.50 $\n"
          ]
        }
      ]
    },
    {
      "cell_type": "code",
      "source": [
        "#Practica 4\n",
        "#Escribir un programa que pregunte una fecha en formato dd/mm/aaaa y muestre por pantalla la misma fecha en formato dd de <mes> de aaaa donde <mes> es el nombre del mes.\n",
        "meses = {\n",
        "    1: 'enero', 2: 'febrero', 3: 'marzo', 4: 'abril', 5: 'mayo', 6: 'junio',\n",
        "    7: 'julio', 8: 'agosto', 9: 'septiembre', 10: 'octubre', 11: 'noviembre',\n",
        "    12: 'diciembre'}\n",
        "fecha_nacimiento=input('Introduce una fecha en formato dd/mm/yyyy: ')\n",
        "partes_fecha = fecha_nacimiento.split('/')\n",
        "dia = partes_fecha[0]\n",
        "mes =partes_fecha[1]\n",
        "año =partes_fecha[2]\n",
        "print(f'{dia} de {meses[int(mes)]} del {año}')\n",
        "|"
      ],
      "metadata": {
        "colab": {
          "base_uri": "https://localhost:8080/"
        },
        "id": "2Ya6VF-kIyPH",
        "outputId": "6e040694-8d14-4355-8928-30aaba0f3a75"
      },
      "execution_count": 7,
      "outputs": [
        {
          "output_type": "stream",
          "name": "stdout",
          "text": [
            "Introduce una fecha en formato dd/mm/yyyy: 11/12/2004\n",
            "11 de diciembre del 2004\n"
          ]
        }
      ]
    },
    {
      "cell_type": "code",
      "source": [
        "# Practica 7 Diccionarios\n",
        "\n",
        "#Escribir un programa que cree un diccionario simulando una cesta de la compra. El programa debe preguntar el artículo y su precio y añadir el par al diccionario, hasta que el usuario decida terminar. Después se debe mostrar por pantalla la lista de la compra y el coste total, con el siguiente formato\n",
        "#Lista de la compra\n",
        "#Artículo 1 Precio\n",
        "#Artículo 2 Precio\n",
        "#Artículo 3 Precio\n",
        "#Total Costo\"\"\n",
        "cesta_compra = {}\n",
        "total_costo = 0\n",
        "while True:\n",
        "    item = input('Introduce un artículo o pulsa \"Enter\" para terminar: ')\n",
        "    if not item:\n",
        "        break\n",
        "    precio = float(input('Introduce el precio del artículo: '))\n",
        "    cesta_compra[item] = precio\n",
        "    total_costo += precio\n",
        "\n",
        "print('Lista de la compra:')\n",
        "for item, price in cesta_compra.items():\n",
        "    print(f'Artículo {item}: {price}')\n",
        "print(f'Total costo: {total_costo}')\n"
      ],
      "metadata": {
        "colab": {
          "base_uri": "https://localhost:8080/"
        },
        "id": "A5Zhti0FSh41",
        "outputId": "da4c21b0-cfc9-43e3-f5ef-2522fe4030b9"
      },
      "execution_count": 22,
      "outputs": [
        {
          "output_type": "stream",
          "name": "stdout",
          "text": [
            "Introduce un artículo o pulsa \"Enter\" para terminar: pantalon\n",
            "Introduce el precio del artículo: 500\n",
            "Introduce un artículo o pulsa \"Enter\" para terminar: raqueta\n",
            "Introduce el precio del artículo: 450\n",
            "Introduce un artículo o pulsa \"Enter\" para terminar: libro\n",
            "Introduce el precio del artículo: 500\n",
            "Introduce un artículo o pulsa \"Enter\" para terminar: \n",
            "Lista de la compra:\n",
            "Artículo pantalon: 500.0\n",
            "Artículo raqueta: 450.0\n",
            "Artículo libro: 500.0\n",
            "Total costo: 1450.0\n"
          ]
        }
      ]
    },
    {
      "cell_type": "code",
      "source": [],
      "metadata": {
        "id": "YutUKJgJWf1P"
      },
      "execution_count": null,
      "outputs": []
    }
  ]
}