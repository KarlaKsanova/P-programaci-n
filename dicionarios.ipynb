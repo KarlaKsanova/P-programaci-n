{
  "nbformat": 4,
  "nbformat_minor": 0,
  "metadata": {
    "colab": {
      "provenance": [],
      "toc_visible": true,
      "authorship_tag": "ABX9TyOjP6B1NiHXM3/wqnmA4EHm",
      "include_colab_link": true
    },
    "kernelspec": {
      "name": "python3",
      "display_name": "Python 3"
    },
    "language_info": {
      "name": "python"
    }
  },
  "cells": [
    {
      "cell_type": "markdown",
      "metadata": {
        "id": "view-in-github",
        "colab_type": "text"
      },
      "source": [
        "<a href=\"https://colab.research.google.com/github/KarlaKsanova/P-programaci-n/blob/main/dicionarios.ipynb\" target=\"_parent\"><img src=\"https://colab.research.google.com/assets/colab-badge.svg\" alt=\"Open In Colab\"/></a>"
      ]
    },
    {
      "cell_type": "code",
      "execution_count": 9,
      "metadata": {
        "colab": {
          "base_uri": "https://localhost:8080/"
        },
        "id": "tFPCnW7Dq7lq",
        "outputId": "a6b14616-c860-4dc1-ebfd-2e08bd7d5ebe"
      },
      "outputs": [
        {
          "output_type": "stream",
          "name": "stdout",
          "text": [
            "{1: 'Nombre', 2: 'Apellido', 3: 'Profesion', 4: 'Region'}\n",
            "{'azul': 'blue', 'negro': 'black', 'rosado': 'pink', 'anarangado': 'orange', 'blanco': 'white'}\n",
            "{'Alberto': 24, 'Joel': 26, 'Ana': 27, 'Victor': 28}\n",
            "{'Alberto': 24, 'Joel': 27, 'Ana': 27, 'Victor': 28}\n",
            "Alberto\n",
            "Joel\n",
            "Ana\n",
            "Victor\n",
            "{'Alberto': 24, 'Joel': 27, 'Ana': 27}\n"
          ]
        }
      ],
      "source": [
        "colores={\"azul\":\"blue\",\"negro\":\"black\",\"rosado\":\"pink\"}\n",
        "propiedades={1:\"Nombre\",2:\"Apellido\",3:\"Profesion\",4:\"Region\"}\n",
        "print(propiedades)\n",
        "\n",
        "colores[\"anarangado\"]= \"orange\"\n",
        "colores[\"blanco\"]= \"white\"\n",
        "print(colores)\n",
        "edades={\"Alberto\":24,\n",
        "        \"Joel\":26,\n",
        "        \"Ana\": 27,\n",
        "        \"Victor\":28}\n",
        "print (edades)\n",
        "edades[\"Joel\"]+=1\n",
        "print(edades)\n",
        "for c in  edades:\n",
        "  print(c)\n",
        "del(edades[\"Victor\"])\n",
        "print(edades)"
      ]
    },
    {
      "cell_type": "code",
      "source": [
        "\n",
        "#Práctica 1 diccionarios\n",
        "\"\"\"Escribir un programa que guarde en una variable el diccionario {'Euro':'€', 'Dollar':'$', 'Yen':'\\'}, S = 36 y = 165 := 190 euro= epsilon pregunte al usuario por una divisa y muestre su símbolo o un mensaje de aviso si la divisa no está en el diccionario.\"\"\"\n",
        "\n",
        "divisas = {'Euros': '€', 'Dollar': '$', 'Yen': '¥'}\n",
        "\n",
        "divisa = input(\"Ingrese una divisa: \")\n",
        "\n",
        "if divisa in divisas:\n",
        "    print(f\"El símbolo para {divisa} es {divisas[divisa]}\")\n",
        "else:\n",
        "    print(f\"{divisa} no es una divisa válida.\")"
      ],
      "metadata": {
        "colab": {
          "base_uri": "https://localhost:8080/"
        },
        "id": "7fUblAwT09h0",
        "outputId": "6f9d27ab-cc0d-48e9-eb4a-72c57891dff3"
      },
      "execution_count": 17,
      "outputs": [
        {
          "output_type": "stream",
          "name": "stdout",
          "text": [
            "Ingrese una divisa: dolar\n",
            "dolar no es una divisa válida.\n"
          ]
        }
      ]
    },
    {
      "source": [
        "#practica 2\n",
        "#Escribir un programa que pregunte al usuario su nombre, edad, direccióny teléfono y lo guarde en un diccionario. Después de mostrar por pantalla el mensaje <nombre> tiene <edaanos, vive en <dirección> y su número de teléfono es <teléfono>.\"\"\"\n",
        "\n",
        "nombre = input(\"¿Cual es su nombre?: \")\n",
        "edad = int(input(\"Por favor ingrese su edad: \"))\n",
        "direccion = input(\"Ingrese su dirección: \")\n",
        "telefono = input(\"Ingrese su número de teléfono: \")\n",
        "informacion = {\"Nombre\": nombre, \"Edad\": edad, \"Direccion\": direccion, \"Telefono\": telefono}\n",
        "print (f\"{nombre} tiene {edad} años, vive en {direccion} y su número de teléfono es {telefono}\")"
      ],
      "cell_type": "code",
      "metadata": {
        "colab": {
          "base_uri": "https://localhost:8080/"
        },
        "id": "zuVjei-97_57",
        "outputId": "163db345-8e5d-4e7f-c7db-2489213b53db"
      },
      "execution_count": 21,
      "outputs": [
        {
          "output_type": "stream",
          "name": "stdout",
          "text": [
            "¿Cual es su nombre?: Karla\n",
            "Por favor ingrese su edad: 19\n",
            "Ingrese su dirección: libertad 25\n",
            "Ingrese su número de teléfono: 5574478319\n",
            "Karla tiene 19 años, vive en libertad 25 y su número de teléfono es 5574478319\n"
          ]
        }
      ]
    },
    {
      "cell_type": "code",
      "source": [
        "#practica 3\n",
        "\n",
        "#Escribir un programa que guarde en ün diccionario los precios de las frutas de la tabla, pregunte al usuario por una fruta, un número de kilos y muestre por pantalla el precio de ese número de kilos de fruta.\n",
        "\n",
        "#Si la fruta no está en el diccionario debe mostrar un mensaje Informando de ello\n",
        "\n",
        "#Fruta      Precio\n",
        "\n",
        "#Plátano    20.00\n",
        "\n",
        "#Manzana    45.00\n",
        "\n",
        "#Pera       35.00\n",
        "\n",
        "#Naranja    7.50\n",
        "\n",
        "precios = {\"Plátano\": 20.00, \"Manzana\": 45.00, \"Pera\": 35.00, \"Naranja\": 7.50}\n",
        "fruta = input(\"Ingrese el nombre de la fruta: \").capitalize()\n",
        "kilos = float(input(\"Ingrese el número de kilos: \"))\n",
        "\n",
        "if fruta in precios:\n",
        "    precio = precios[fruta] * kilos\n",
        "    print(f\"El precio de {kilos} kilos de {fruta} es {precio:.2f} $\")\n",
        "else:\n",
        "    print(f\"{fruta} no está en el diccionario de precios de frutas.\")\n",
        "\n"
      ],
      "metadata": {
        "colab": {
          "base_uri": "https://localhost:8080/"
        },
        "id": "buDsNBaQ-vW7",
        "outputId": "6bc2f745-9d2e-4409-c352-e2c90034edf8"
      },
      "execution_count": 27,
      "outputs": [
        {
          "output_type": "stream",
          "name": "stdout",
          "text": [
            "Ingrese el nombre de la fruta: naranja\n",
            "Ingrese el número de kilos: 5\n",
            "El precio de 5.0 kilos de Naranja es 37.50 $\n"
          ]
        }
      ]
    }
  ]
}