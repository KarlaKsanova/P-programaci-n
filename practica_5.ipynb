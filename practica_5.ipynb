{
  "nbformat": 4,
  "nbformat_minor": 0,
  "metadata": {
    "colab": {
      "provenance": [],
      "authorship_tag": "ABX9TyNBt4SkozG+mHlqhA7Bsb2i",
      "include_colab_link": true
    },
    "kernelspec": {
      "name": "python3",
      "display_name": "Python 3"
    },
    "language_info": {
      "name": "python"
    }
  },
  "cells": [
    {
      "cell_type": "markdown",
      "metadata": {
        "id": "view-in-github",
        "colab_type": "text"
      },
      "source": [
        "<a href=\"https://colab.research.google.com/github/KarlaKsanova/P-programaci-n/blob/main/practica_5.ipynb\" target=\"_parent\"><img src=\"https://colab.research.google.com/assets/colab-badge.svg\" alt=\"Open In Colab\"/></a>"
      ]
    },
    {
      "cell_type": "code",
      "execution_count": 1,
      "metadata": {
        "colab": {
          "base_uri": "https://localhost:8080/"
        },
        "id": "XOsye1I0zu5_",
        "outputId": "4aaa516f-6c66-41b9-deed-1e084451a32f"
      },
      "outputs": [
        {
          "output_type": "stream",
          "name": "stdout",
          "text": [
            "\n",
            "Datos de auto 1 +++++++++\n",
            "Marca: m1\n",
            "Precio: 3000\n",
            "Color: morado\n",
            "Modelo: 2024\n",
            "Origen: chino\n",
            "\n",
            "Datos de auto 2 +++++++++\n",
            "Marca: m2\n",
            "Precio: 40000\n",
            "Color: azul\n",
            "Modelo: 2010\n",
            "Origen: aleman\n",
            "\n",
            "Datos de auto 3 +++++++++\n",
            "Marca: m3\n",
            "Precio: 6000000\n",
            "Color: negro\n",
            "Modelo: 2024\n",
            "Origen: eua\n",
            "\n",
            "Datos de auto 4 +++++++++\n",
            "Marca: m4\n",
            "Precio: 69000\n",
            "Color: rosa\n",
            "Modelo: 2300\n",
            "Origen: mexico\n",
            "\n",
            "Datos de auto 5 +++++++++\n",
            "Marca: m5\n",
            "Precio: 9000000\n",
            "Color: dorado\n",
            "Modelo: 2040\n",
            "Origen: eua\n",
            "[{'marca': 'm1', 'precio': 3000.0, 'color': 'morado', 'modelo': '2024', 'origen': 'chino'}, {'marca': 'm2', 'precio': 40000.0, 'color': 'azul', 'modelo': '2010', 'origen': 'aleman'}, {'marca': 'm3', 'precio': 6000000.0, 'color': 'negro', 'modelo': '2024', 'origen': 'eua'}, {'marca': 'm4', 'precio': 69000.0, 'color': 'rosa', 'modelo': '2300', 'origen': 'mexico'}, {'marca': 'm5', 'precio': 9000000.0, 'color': 'dorado', 'modelo': '2040', 'origen': 'eua'}]\n"
          ]
        }
      ],
      "source": [
        "#Ejercicio 1\n",
        "\n",
        "#Programa que solicite los datos de 5 autos:\n",
        "\n",
        "#- Marca, precio, color, modelo, origen\n",
        "#- El programa al final debe mostrar:\n",
        "#- ¿Cuántos autos son europeos?\n",
        "#- ¿Cuántos valen menos de 300,000?\n",
        "#- ¿Cuántos fueron modelo 2024?\n",
        "#- ¿Cuántos fueron de color rojo?\n",
        "#- El promedio de precios de todos los autos\n",
        "#- El promedio de precios de los autos europeos\n",
        "N = 5\n",
        "\n",
        "autos = []\n",
        "for i in range(1,N+1):\n",
        "  print('\\nDatos de auto', i, '+++++++++')\n",
        "  marca = input('Marca: ')\n",
        "  precio = float(input('Precio: '))\n",
        "  color = input('Color: ')\n",
        "  modelo = input('Modelo: ')\n",
        "  origen = input('Origen: ')\n",
        "  autos.append({\n",
        "      'marca': marca,\n",
        "      'precio': precio,\n",
        "      'color': color,\n",
        "      'modelo': modelo,\n",
        "      'origen': origen\n",
        "  })\n",
        "\n",
        "print(autos)\n"
      ]
    },
    {
      "cell_type": "code",
      "source": [
        "europeos = 0\n",
        "menos_de_300mil = 0\n",
        "modelos2024 = 0\n",
        "rojos = 0\n",
        "promedio_precios = 0\n",
        "promedio_europeos = 0\n",
        "\n",
        "for i in range(len(autos)):\n",
        "  europeos += 1 if autos[i]['origen'] == 'europeo' else 0\n",
        "  menos_de_300mil += 1 if autos[i]['precio'] < 300000 else 0\n",
        "  modelos2024 += 1 if autos[i]['modelo'] == '2024' else 0\n",
        "  rojos += 1 if autos[i]['color'] == 'rojo' else 0\n",
        "  promedio_precios += autos[i]['precio']\n",
        "  promedio_europeos += autos[i]['precio'] if autos[i]['origen'] == 'europeo' else 0\n",
        "\n",
        "promedio_precios /= len(autos)\n",
        "if europeos > 0:\n",
        "  promedio_europeos /= europeos\n",
        "else:\n",
        "  promedio_europeos = 0\n",
        "\n",
        "print(f'{europeos} autos europeos')\n",
        "print(f'{menos_de_300mil} autos valen menos de 300,000')\n",
        "print(f'{modelos2024} autos son modelo 2024')\n",
        "print(f'{rojos} autos son de color rojo')\n",
        "print(f'Promedio de precios de todos los autos: {promedio_precios}')\n",
        "print(f'Promedio de precios de autos europeos: {promedio_europeos}')"
      ],
      "metadata": {
        "colab": {
          "base_uri": "https://localhost:8080/"
        },
        "id": "eQ5CjQzh1cra",
        "outputId": "81d2fc80-cb9b-4697-eec9-7c65a0261adc"
      },
      "execution_count": 7,
      "outputs": [
        {
          "output_type": "stream",
          "name": "stdout",
          "text": [
            "0 autos europeos\n",
            "3 autos valen menos de 300,000\n",
            "2 autos son modelo 2024\n",
            "0 autos son de color rojo\n",
            "Promedio de precios de todos los autos: 3022400.0\n",
            "Promedio de precios de autos europeos: 0\n"
          ]
        }
      ]
    },
    {
      "cell_type": "code",
      "source": [
        "# Ejercicio 2\n",
        "#Se desea calcular el salario semanal de varios empleados bajo las siguientes condiciones: las primeras 40 horas las recibe con un pago nomnal de acuerdo a una tarifa por hora, previamente asignada. Las siguientes 9 horas de trabajo adicional a la jornada normal se pagan dobles y las excedentes de 49 horas se pagan triples. Además, se requiere registrar el nombre del trabajador, la tarifa por hora y el número de horas trabajadas y que se muestre el pago que deberá hacerse a dicho empleado. Cada vez que se calcula el pago de un empleado, el usuario decidirá si desea realizar el cálculo para otro empleado o terminar el proceso.\n",
        "#Al terminar el proceso debe mostrar el total a pagar del salario neto por todos los empleados calculados.\n",
        "resp = 'S'\n",
        "salario_neto_a_pagar = 0.0\n",
        "\n",
        "while 'S' in resp.upper():\n",
        "  nombre = input('Nombre del trabajador: ')\n",
        "  tarifa = float(input('Tarifa por hora: '))\n",
        "  horas = int(input('Número de horas trabajadas: '))\n",
        "  if horas > 49:\n",
        "    salario_neto = 3*tarifa*(horas-49) + 2*tarifa*9 + tarifa*40\n",
        "  elif horas > 40:\n",
        "    salario_neto = 2*tarifa*(horas-40) + tarifa*40\n",
        "  else:\n",
        "    salario_neto = tarifa*horas\n",
        "  print(f'El pago de {nombre} es de {salario_neto}')\n",
        "  salario_neto_a_pagar += salario_neto\n",
        "\n",
        "  resp = input('¿Desea realizar el cálculo para otro empleado? (S/N): ')\n",
        "\n",
        "print(f'El total a pagar del salario neto por todos los empleados calculados es de {salario_neto_a_pagar}')"
      ],
      "metadata": {
        "colab": {
          "base_uri": "https://localhost:8080/"
        },
        "id": "CLobsEOd3CQZ",
        "outputId": "e445a797-4a18-45e3-9eda-57ad9e0f6a7a"
      },
      "execution_count": 8,
      "outputs": [
        {
          "output_type": "stream",
          "name": "stdout",
          "text": [
            "Nombre del trabajador: Karla\n",
            "Tarifa por hora: 90\n",
            "Número de horas trabajadas: 7\n",
            "El pago de Karla es de 630.0\n",
            "¿Desea realizar el cálculo para otro empleado? (S/N): N\n",
            "El total a pagar del salario neto por todos los empleados calculados es de 630.0\n"
          ]
        }
      ]
    }
  ]
}