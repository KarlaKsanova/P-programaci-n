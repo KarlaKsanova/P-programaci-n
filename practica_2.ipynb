{
  "nbformat": 4,
  "nbformat_minor": 0,
  "metadata": {
    "colab": {
      "provenance": [],
      "toc_visible": true,
      "authorship_tag": "ABX9TyNojbxSJx15RfnRYdGlLfeU",
      "include_colab_link": true
    },
    "kernelspec": {
      "name": "python3",
      "display_name": "Python 3"
    },
    "language_info": {
      "name": "python"
    }
  },
  "cells": [
    {
      "cell_type": "markdown",
      "metadata": {
        "id": "view-in-github",
        "colab_type": "text"
      },
      "source": [
        "<a href=\"https://colab.research.google.com/github/KarlaKsanova/P-programaci-n/blob/main/practica_2.ipynb\" target=\"_parent\"><img src=\"https://colab.research.google.com/assets/colab-badge.svg\" alt=\"Open In Colab\"/></a>"
      ]
    },
    {
      "cell_type": "markdown",
      "source": [
        "#Condicionales"
      ],
      "metadata": {
        "id": "P4vky6NoUfIB"
      }
    },
    {
      "cell_type": "code",
      "execution_count": 7,
      "metadata": {
        "colab": {
          "base_uri": "https://localhost:8080/"
        },
        "id": "Ji5aw1sm8Qba",
        "outputId": "02d8084c-fe02-4b76-f2d1-5cda3d8b2c1b"
      },
      "outputs": [
        {
          "output_type": "stream",
          "name": "stdout",
          "text": [
            "¿Cual es tu edad? 19\n",
            "Eres mayor de edad \n"
          ]
        }
      ],
      "source": [
        "\"EScribir un programa que prente la edad y diga si es mayor de edad\"\n",
        "edad = int(input(\"¿Cual es tu edad? \"))\n",
        "if edad >= 18:\n",
        "  print(\"Eres mayor de edad \")\n",
        "else:\n",
        "    print(\"Eres menor de edad \")"
      ]
    },
    {
      "cell_type": "code",
      "source": [
        "\"Escribir un programa que almacena la cadena de caracteres URC en una variable pregunta por contraseña y este bien sin tomar en cuanta  si esta en mayuscula\"\n",
        "V = \"urcnet\"\n",
        "CONTRASEÑA = input(\"¿Cual es tu contraseña? \")\n",
        "if V == CONTRASEÑA.lower():\n",
        "  print(\"Tu contraseña es correcta \")\n",
        "else:\n",
        "  Print(\"Tu contraseña es incorrecta \")"
      ],
      "metadata": {
        "colab": {
          "base_uri": "https://localhost:8080/"
        },
        "id": "Bou4PtjN-IN4",
        "outputId": "5a697bb1-eff8-4430-c10a-59e3426979c8"
      },
      "execution_count": 8,
      "outputs": [
        {
          "output_type": "stream",
          "name": "stdout",
          "text": [
            "¿Cual es tu contraseña? URCNET\n",
            "Tu contraseña es correcta \n"
          ]
        }
      ]
    },
    {
      "cell_type": "code",
      "source": [
        "\"para tributar un determinado inpueto se dee ser mayor de 16 y tener intresos mayores a 10 mil escribir un programa que pregunte al usuario su edad y sus ingresos mensuales y diga si paga o no\"\n",
        "edad  = int(input(\"¿Cual es  tu edad\"))\n",
        "ingresos = float(input(\" ¿Cuales son tus ingresos? \"))\n",
        "if edad > 16 and ingresos > 10000 :\n",
        "  print(\"Si pagas inpuesto\")\n",
        "else:\n",
        "  print(\"No pagas inpuesto\")\n",
        "\n",
        "\n"
      ],
      "metadata": {
        "colab": {
          "base_uri": "https://localhost:8080/"
        },
        "id": "RQ592vop_QNu",
        "outputId": "e20da89b-8807-4932-aeab-9129f752da1f"
      },
      "execution_count": 9,
      "outputs": [
        {
          "output_type": "stream",
          "name": "stdout",
          "text": [
            "¿Cual es  tu edad19\n",
            " ¿Cuales son tus ingresos? 5000\n",
            "No pagas inpuesto\n"
          ]
        }
      ]
    },
    {
      "cell_type": "code",
      "source": [
        "#los alumnos de un grupo de divideron en 2 A y B el primer grupo esta formando por mujeres con nombre anterior a la l y hombres de o a z\n",
        "nombre = input(\"¿Cual es tu nombre? \")\n",
        "genero = input(\"Tu genero F o M: \")\n",
        "if genero == \"F\" :\n",
        "  if nombre.lower()< \"m\":\n",
        "    grupo = \"A\"\n",
        "  else:\n",
        "      grupo = \"B\"\n",
        "else:\n",
        "  if nombre.lower()> \"n\":\n",
        "    grupo = \"A\"\n",
        "  else:\n",
        "      grupo = \"B\"\n",
        "print(\"Tu grupo es \" + grupo)\n"
      ],
      "metadata": {
        "colab": {
          "base_uri": "https://localhost:8080/"
        },
        "id": "EMG3sr_lHjJw",
        "outputId": "1dfc9e3e-fb28-46a1-e825-c4d5507d8e97"
      },
      "execution_count": 10,
      "outputs": [
        {
          "output_type": "stream",
          "name": "stdout",
          "text": [
            "¿Cual es tu nombre? Karla\n",
            "Tu genero F o M: F\n",
            "Tu grupo es A\n"
          ]
        }
      ]
    },
    {
      "cell_type": "code",
      "source": [
        "# la pizzeria ofrece opciones vegetarias y no vegetariana, ingredientes V: pimientos y champiñones ingredientes no vegetarianos:peperoni, jamom y salmon\n",
        "print(\"Bienvenido a nuestra pizzeria, 1 vegetariana 2 no vegetariana  \")\n",
        "tipo = int(input(\" opcion \"))\n",
        "if tipo == 1 :\n",
        "  print(\"1-pimiento, 2-champiñon \")\n",
        "  ingrediente = input(\" Tu ingrediente \")\n",
        "  if ingrediente == \"1\":\n",
        "    print(\"Tu pizza es de chanpiñones con Mozarella y tomate \")\n",
        "  else:\n",
        "      print(\" Tu pizza es de Pimiento con Mozarella y Tomate \")\n",
        "else:\n",
        "  print(\"1-Peperoni, 2-Jamon, 3-Salmon  \")\n",
        "  ingrediente = input(\"Tu ingrediente \")\n",
        "  if ingrediente == \"1\":\n",
        "    print(\"Tu pizza es de Peperoni \")\n",
        "  elif ingrediente == \"2\":\n",
        "    print(\"Tu pizza es de Jamon \")\n",
        "  else:\n",
        "    print(\"Tu pizza es de Salmon \")\n",
        "\n",
        "\n"
      ],
      "metadata": {
        "colab": {
          "base_uri": "https://localhost:8080/"
        },
        "id": "aNrInrzzJR0Z",
        "outputId": "e45137c2-88da-4d28-897a-69758935ff4c"
      },
      "execution_count": 11,
      "outputs": [
        {
          "output_type": "stream",
          "name": "stdout",
          "text": [
            "Bienvenido a nuestra pizzeria, 1 vegetariana 2 no vegetariana  \n",
            " opcion 2\n",
            "1-Peperoni, 2-Jamon, 3-Salmon  \n",
            "Tu ingrediente 1\n",
            "Tu pizza es de Peperoni \n"
          ]
        }
      ]
    }
  ]
}