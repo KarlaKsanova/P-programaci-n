{
  "nbformat": 4,
  "nbformat_minor": 0,
  "metadata": {
    "colab": {
      "provenance": [],
      "authorship_tag": "ABX9TyNaJ6UNWVmatFcwiBMsljHc",
      "include_colab_link": true
    },
    "kernelspec": {
      "name": "python3",
      "display_name": "Python 3"
    },
    "language_info": {
      "name": "python"
    }
  },
  "cells": [
    {
      "cell_type": "markdown",
      "metadata": {
        "id": "view-in-github",
        "colab_type": "text"
      },
      "source": [
        "<a href=\"https://colab.research.google.com/github/KarlaKsanova/P-programaci-n/blob/main/Practica_4.ipynb\" target=\"_parent\"><img src=\"https://colab.research.google.com/assets/colab-badge.svg\" alt=\"Open In Colab\"/></a>"
      ]
    },
    {
      "cell_type": "code",
      "execution_count": 12,
      "metadata": {
        "colab": {
          "base_uri": "https://localhost:8080/"
        },
        "id": "2f8dtiNhqW9w",
        "outputId": "ae7ff3a6-9785-4414-a7a3-23def8ab9c07"
      },
      "outputs": [
        {
          "output_type": "stream",
          "name": "stdout",
          "text": [
            "Por favor ingrese la contraseña: URC\n",
            "Contraseña correcta.\n"
          ]
        }
      ],
      "source": [
        "#Escribir un programa que almacene la cadena de caracrteres \"URC\" en una variable, pregunta al usuario por la contraseña hasta que la contraseña sea correcta\n",
        "key = \"URC\"\n",
        "password =\"URC\"\n",
        "\n",
        "while True:\n",
        "    user_password = input(\"Por favor ingrese la contraseña: \")\n",
        "    if user_password == password:\n",
        "        print(\"Contraseña correcta.\")\n",
        "        break\n",
        "    else:\n",
        "        print(\"Contraseña incorrecta. Por favor vuelva a intentarlo.\")"
      ]
    },
    {
      "cell_type": "code",
      "source": [
        "#PRACTICA EJEMPLO WHILE USANDO BREAK\n",
        "x=1\n",
        "while (x<10):\n",
        "  if(x==5):\n",
        "    break\n",
        "  print(x)\n",
        "  x += 1"
      ],
      "metadata": {
        "colab": {
          "base_uri": "https://localhost:8080/"
        },
        "id": "oaTB4i1Yq4Tb",
        "outputId": "dbf27ae1-9cbe-44f8-a174-d85d8f75edcc"
      },
      "execution_count": 13,
      "outputs": [
        {
          "output_type": "stream",
          "name": "stdout",
          "text": [
            "1\n",
            "2\n",
            "3\n",
            "4\n"
          ]
        }
      ]
    },
    {
      "cell_type": "code",
      "source": [
        "#Emular while\n",
        "\n",
        "secreto = \"urc\"\n",
        "intentos = 0\n",
        "\n",
        "while True:\n",
        "\n",
        "    palabra = input(\"Ingresa la palabra secreta: \").lower()\n",
        "\n",
        "    intentos += 1\n",
        "\n",
        "\n",
        "    if palabra == secreto:\n",
        "\n",
        "        print(f\" La palabra secreta es correcta .\")\n",
        "        break\n",
        "    elif intentos < 5:\n",
        "        print(f\"Palabra incorrecta. Inténtalo de nuevo. Intentos restantes: {5 - intentos}\")\n",
        "    else:\n",
        "        print(f\"Has superado el número de intentos permitido.\")\n",
        "        break"
      ],
      "metadata": {
        "colab": {
          "base_uri": "https://localhost:8080/"
        },
        "id": "ZNmRzP3Mvuip",
        "outputId": "18d0c1f3-597a-47d2-c952-4e0bb98d7fb0"
      },
      "execution_count": 25,
      "outputs": [
        {
          "output_type": "stream",
          "name": "stdout",
          "text": [
            "Ingresa la palabra secreta: urc\n",
            " La palabra secreta es correcta .\n"
          ]
        }
      ]
    },
    {
      "cell_type": "code",
      "source": [
        "#Programa que pida que se pulse la letra \"c\" si se pulsa cualquier otra letra el programa dira \"letra incorrecta\" y vuelve a pedir que se pulse la letra \"c\" Cuando se pulse la letra \"c\" el programa dice \"gracias\" y termina.\n",
        "while True:\n",
        "  letra = input(\"digite la letra C \").lower()\n",
        "  if letra == \"c\":\n",
        "      break\n",
        "  else:\n",
        "    print(\"letra incorrecta\")"
      ],
      "metadata": {
        "colab": {
          "base_uri": "https://localhost:8080/"
        },
        "id": "tJHJA6SDvvbJ",
        "outputId": "b84958cc-a1a3-49c5-d036-48ea8e67a5c7"
      },
      "execution_count": 20,
      "outputs": [
        {
          "name": "stdout",
          "output_type": "stream",
          "text": [
            "digite la letra C C\n"
          ]
        }
      ]
    },
    {
      "cell_type": "code",
      "source": [
        "#Programa que solicite las edades de 10 persona y muestre, ¿cuantos fueron mayores de edad y cuanos fueron menores de edad?\n",
        "mayores =0\n",
        "menores=0\n",
        "for i in range (1,11):\n",
        "  edad= int(input(\" ¿Cual es tu edad \"))\n",
        "  if edad>=18:\n",
        "    mayores+=1\n",
        "  else:\n",
        "    menores+=1\n",
        "print(\" Mayores de edad son \" + str(mayores))\n",
        "print(\" Menores de edad son \"+ str(menores))"
      ],
      "metadata": {
        "colab": {
          "base_uri": "https://localhost:8080/"
        },
        "id": "wK5562zBwBL9",
        "outputId": "69a09449-ea9c-4872-e541-f3c77885b2d4"
      },
      "execution_count": 21,
      "outputs": [
        {
          "output_type": "stream",
          "name": "stdout",
          "text": [
            " ¿Cual es tu edad 23\n",
            " ¿Cual es tu edad 14\n",
            " ¿Cual es tu edad 15\n",
            " ¿Cual es tu edad 25\n",
            " ¿Cual es tu edad 17\n",
            " ¿Cual es tu edad 13\n",
            " ¿Cual es tu edad 13\n",
            " ¿Cual es tu edad 29\n",
            " ¿Cual es tu edad 21\n",
            " ¿Cual es tu edad 12\n",
            " Mayores de edad son 4\n",
            " Menores de edad son 6\n"
          ]
        }
      ]
    },
    {
      "cell_type": "code",
      "source": [
        "#Programa que solicite los precios de 10 productos y calcule el promedio de precios de los productos nacionales e importados\n",
        "# Initialize the variables\n",
        "suma_nacionales = 0\n",
        "num_nacionales = 0\n",
        "suma_importados = 0\n",
        "num_importados = 0\n",
        "\n",
        "# Iterate over the range (1, 11)\n",
        "for i in range(1, 11):\n",
        "    # Get the cost of the product\n",
        "    costo = float(input(\"Costo del producto: \"))\n",
        "\n",
        "    # Get the origin of the product\n",
        "    origen = input(\"El producto es nacional (si) o importado (no): \").lower()\n",
        "\n",
        "    if origen == \"si\":\n",
        "        suma_nacionales += costo\n",
        "        num_nacionales += 1\n",
        "    elif origen == \"no\":\n",
        "        suma_importados += costo\n",
        "        num_importados += 1\n",
        "    else:\n",
        "        print(\"Invalid origin. Please answer 'si' or 'no'.\")\n",
        "        break\n",
        "\n",
        "# Calculate the averages\n",
        "if num_nacionales > 0:\n",
        "    promedio_nacionales = suma_nacionales / num_nacionales\n",
        "else:\n",
        "    print(\"No national products were entered.\")\n",
        "    promedio_nacionales = 0\n",
        "\n",
        "if num_importados > 0:\n",
        "    promedio_importados = suma_importados / num_importados\n",
        "else:\n",
        "    print(\"No imported products were entered.\")\n",
        "    promedio_importados = 0\n",
        "\n",
        "# Print the results\n",
        "print(f\"El promedio de los productos nacionales es: {promedio_nacionales}\")\n",
        "print(f\"El promedio de los productos importados es: {promedio_importados}\")"
      ],
      "metadata": {
        "colab": {
          "base_uri": "https://localhost:8080/"
        },
        "id": "QCSnzJArwQUL",
        "outputId": "b3804179-13d5-4b32-93f2-20b6e5eee004"
      },
      "execution_count": 24,
      "outputs": [
        {
          "output_type": "stream",
          "name": "stdout",
          "text": [
            "Costo del producto: 34\n",
            "El producto es nacional (si) o importado (no): si\n",
            "Costo del producto: 45\n",
            "El producto es nacional (si) o importado (no): si\n",
            "Costo del producto: 34\n",
            "El producto es nacional (si) o importado (no): no\n",
            "Costo del producto: 67\n",
            "El producto es nacional (si) o importado (no): no\n",
            "Costo del producto: 321\n",
            "El producto es nacional (si) o importado (no): no\n",
            "Costo del producto: 23\n",
            "El producto es nacional (si) o importado (no): 124\n",
            "Invalid origin. Please answer 'si' or 'no'.\n",
            "El promedio de los productos nacionales es: 39.5\n",
            "El promedio de los productos importados es: 140.66666666666666\n"
          ]
        }
      ]
    }
  ]
}