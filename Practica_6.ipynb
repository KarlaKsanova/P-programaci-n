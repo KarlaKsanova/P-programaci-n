{
  "nbformat": 4,
  "nbformat_minor": 0,
  "metadata": {
    "colab": {
      "provenance": [],
      "authorship_tag": "ABX9TyNnnAzcxc9PSiaDePkkoYJI",
      "include_colab_link": true
    },
    "kernelspec": {
      "name": "python3",
      "display_name": "Python 3"
    },
    "language_info": {
      "name": "python"
    }
  },
  "cells": [
    {
      "cell_type": "markdown",
      "metadata": {
        "id": "view-in-github",
        "colab_type": "text"
      },
      "source": [
        "<a href=\"https://colab.research.google.com/github/KarlaKsanova/P-programaci-n/blob/main/Practica_6.ipynb\" target=\"_parent\"><img src=\"https://colab.research.google.com/assets/colab-badge.svg\" alt=\"Open In Colab\"/></a>"
      ]
    },
    {
      "cell_type": "code",
      "execution_count": 11,
      "metadata": {
        "colab": {
          "base_uri": "https://localhost:8080/"
        },
        "id": "7BjFkfwQD4Ly",
        "outputId": "3cc185a8-0908-4b6b-ccd6-4243086660ac"
      },
      "outputs": [
        {
          "output_type": "stream",
          "name": "stdout",
          "text": [
            "SUMA DE NÚMEROS POSITIVOS\n",
            "Escriba un número positivo o 0 para terminar: 8\n",
            "Escriba un número positivo o 0 para terminar: 11\n",
            "Escriba un número positivo o 0 para terminar: 20\n",
            "Escriba un número positivo o 0 para terminar: -50\n",
            "Se ignorará el número negativo.\n",
            "Escriba un número positivo o 0 para terminar: -25\n",
            "Se ignorará el número negativo.\n",
            "Escriba un número positivo o 0 para terminar: 0\n",
            "La suma de los números es 39 y el promedio es 13.0\n"
          ]
        }
      ],
      "source": [
        "#escbribir un programa que suma una cantidad no determinada de numeros positivos. la suma se detendra si el usuario ingresa un 0. al final se debe imprimir el promedio de dichos numeros\n",
        "def main():\n",
        "    print(\"SUMA DE NÚMEROS POSITIVOS\")\n",
        "    total_sum = 0\n",
        "    num_values = 0\n",
        "    while True:\n",
        "        numero = int(input(\"Escriba un número positivo o 0 para terminar: \"))\n",
        "        if numero < 0:\n",
        "            print(\"Se ignorará el número negativo.\")\n",
        "        elif numero == 0:\n",
        "            break\n",
        "        else:\n",
        "            total_sum += numero\n",
        "            num_values += 1\n",
        "    if num_values > 0:\n",
        "        average = total_sum / num_values\n",
        "        print(f\"La suma de los números es {total_sum} y el promedio es {average}\")\n",
        "    else:\n",
        "        print(\"No se ingresaron números positivos.\")\n",
        "\n",
        "if __name__ == \"__main__\":\n",
        "    main()"
      ]
    },
    {
      "cell_type": "code",
      "source": [
        "from pickle import TRUE\n",
        "#\n",
        "listaVacia = []\n",
        "print(listaVacia)\n",
        "letras =[\"a\", \"e\", \"i\",\"o\",\"u\"]\n",
        "print(letras)\n",
        "numeros =[1,2,3,4,5]\n",
        "val_voleanos=[TRUE, False, TRUE, False]\n",
        "print(val_voleanos)\n"
      ],
      "metadata": {
        "colab": {
          "base_uri": "https://localhost:8080/"
        },
        "id": "cpdnto3wK6aD",
        "outputId": "65598511-e99b-4a6c-c202-47118e0fb203"
      },
      "execution_count": 17,
      "outputs": [
        {
          "output_type": "stream",
          "name": "stdout",
          "text": [
            "[]\n",
            "['a', 'e', 'i', 'o', 'u']\n",
            "[b'I01\\n', False, b'I01\\n', False]\n"
          ]
        }
      ]
    },
    {
      "cell_type": "code",
      "source": [
        "marcas=[\"oppo\",\"iphone\",\"samsung\",\"xiaomi\"]\n",
        "print(f\"in marcas[2]:{marcas[2]}\")\n",
        "print(f\"in marcas[-1]:{marcas[-1]}\")"
      ],
      "metadata": {
        "colab": {
          "base_uri": "https://localhost:8080/"
        },
        "id": "vMk5GwhjNEQL",
        "outputId": "e17a6dce-b3fb-4e51-a0da-843bb5676fe1"
      },
      "execution_count": 19,
      "outputs": [
        {
          "output_type": "stream",
          "name": "stdout",
          "text": [
            "in marcas[2]:samsung\n",
            "in marcas[-1]:xiaomi\n"
          ]
        }
      ]
    },
    {
      "source": [
        "#practica 1\n",
        "#escribir un programa que alamacene en una lista las materias de este semestre y las muestre\n",
        "materias=[\"estadistica\",\"programacion\",\"desarollo\",\"redaccion\",\"algebra\",\"calculo\"]\n",
        "print(\"Yo estudio\", materias)\n",
        "calificaciones =[]\n",
        "for materia in materias:\n",
        "    puntaje=input(\"¿Que calificion sacaste en  \" + materia +  \"? \")\n",
        "    calificaciones.append(puntaje)\n",
        "for i in range(len(materias)):\n",
        "  print(\"en \"+ materias [1]+ \" has sacado \"+ calificaciones[1])\n",
        ""
      ],
      "cell_type": "code",
      "metadata": {
        "colab": {
          "base_uri": "https://localhost:8080/"
        },
        "id": "IJz0rLLSWew_",
        "outputId": "3a856f49-4eae-496c-ca44-8170aa35f948"
      },
      "execution_count": 54,
      "outputs": [
        {
          "output_type": "stream",
          "name": "stdout",
          "text": [
            "Yo estudio ['estadistica', 'programacion', 'desarollo', 'redaccion', 'algebra', 'calculo']\n",
            "¿Que calificion sacaste en  estadistica? 10\n",
            "¿Que calificion sacaste en  programacion? 8\n",
            "¿Que calificion sacaste en  desarollo? 10\n",
            "¿Que calificion sacaste en  redaccion? 10\n",
            "¿Que calificion sacaste en  algebra? 9\n",
            "¿Que calificion sacaste en  calculo? 10\n",
            "en programacion has sacado 8\n",
            "en programacion has sacado 8\n",
            "en programacion has sacado 8\n",
            "en programacion has sacado 8\n",
            "en programacion has sacado 8\n",
            "en programacion has sacado 8\n"
          ]
        }
      ]
    },
    {
      "cell_type": "code",
      "source": [
        "\n",
        "#practica 2\n",
        "#escribir en pantalla que almacene en un a lista los siguientes precios en una lista, 50, 75, 46, 22,80,65,8 que los ordene de forma asendente y muestre por pantalla el menor y el mayor de los precios\n",
        "precios=[ 50,75,46,22,80,65,8 ]\n",
        "menor_precio = precios[0]\n",
        "mayor_precio = precios[-1]\n",
        "precios.sort()\n",
        "\n",
        "print(f\"El precio menor es: {menor_precio}\")\n",
        "print(f\"El precio mayor es: {mayor_precio}\")"
      ],
      "metadata": {
        "colab": {
          "base_uri": "https://localhost:8080/"
        },
        "id": "kRbXwcGYPHCr",
        "outputId": "12162d6c-e214-4f53-aee2-c16213c97600"
      },
      "execution_count": 65,
      "outputs": [
        {
          "output_type": "stream",
          "name": "stdout",
          "text": [
            "El precio menor es: 50\n",
            "El precio mayor es: 8\n"
          ]
        }
      ]
    },
    {
      "cell_type": "code",
      "source": [
        "precios = [50, 75, 46, 22, 80, 65, 8]\n",
        "for i in range(len(precios)):\n",
        "    #for j in range(i+1, len(precios)):\n",
        "        if precios[i] > precios[j]:\n",
        "            precios[i], precios[j] = precios[j], precios[i]\n",
        "min_precio = precios[0]\n",
        "max_precio = precios[-1]\n",
        "print(f\"El precio mínimo es: {min_precio}\")\n",
        "print(f\"El precio máximo es: {max_precio}\")"
      ],
      "metadata": {
        "colab": {
          "base_uri": "https://localhost:8080/"
        },
        "id": "vxXZItZJYY0u",
        "outputId": "97878504-8b8d-4de4-9f6f-0cf507ea255c"
      },
      "execution_count": 69,
      "outputs": [
        {
          "output_type": "stream",
          "name": "stdout",
          "text": [
            "El precio mínimo es: 8\n",
            "El precio máximo es: 80\n"
          ]
        }
      ]
    }
  ]
}