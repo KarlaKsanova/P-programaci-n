{
  "nbformat": 4,
  "nbformat_minor": 0,
  "metadata": {
    "colab": {
      "provenance": [],
      "authorship_tag": "ABX9TyPw7B0YpPWrbV3I41asinrN",
      "include_colab_link": true
    },
    "kernelspec": {
      "name": "python3",
      "display_name": "Python 3"
    },
    "language_info": {
      "name": "python"
    }
  },
  "cells": [
    {
      "cell_type": "markdown",
      "metadata": {
        "id": "view-in-github",
        "colab_type": "text"
      },
      "source": [
        "<a href=\"https://colab.research.google.com/github/KarlaKsanova/P-programaci-n/blob/main/practica_3.ipynb\" target=\"_parent\"><img src=\"https://colab.research.google.com/assets/colab-badge.svg\" alt=\"Open In Colab\"/></a>"
      ]
    },
    {
      "cell_type": "markdown",
      "source": [
        "CICLOS\n"
      ],
      "metadata": {
        "id": "Rw7XNp8hj03k"
      }
    },
    {
      "cell_type": "code",
      "source": [
        "\"escribir un programa que pida al usuario y la muestre 10 veces\"\n",
        "Palabra= input(print(\"escribe una palabra\"))\n",
        "for i in range (10):\n",
        "  print(Palabra )\n",
        "  # practica 2\n",
        "for i in range (5,20,2):\n",
        "  print(i)\n",
        "# practica 3\n",
        "for i in range (5,0,-1):\n",
        "  print(i)"
      ],
      "metadata": {
        "colab": {
          "base_uri": "https://localhost:8080/"
        },
        "id": "n8pHGoEci3R5",
        "outputId": "ca350806-5c36-40cf-ce03-cc7d77413f9a"
      },
      "execution_count": null,
      "outputs": [
        {
          "output_type": "stream",
          "name": "stdout",
          "text": [
            "escribe una palabra\n",
            "Nonehola\n",
            "hola\n",
            "hola\n",
            "hola\n",
            "hola\n",
            "hola\n",
            "hola\n",
            "hola\n",
            "hola\n",
            "hola\n",
            "hola\n",
            "5\n",
            "7\n",
            "9\n",
            "11\n",
            "13\n",
            "15\n",
            "17\n",
            "19\n",
            "5\n",
            "4\n",
            "3\n",
            "2\n",
            "1\n"
          ]
        }
      ]
    },
    {
      "cell_type": "code",
      "source": [
        "#Practica 2\n",
        "\"programa que solocite un numero y lo muestre 100 veces incrementando 1 \"\n",
        "numero =int(input(\"ingresa un numero \"))\n",
        "for i in range (1,100,1):\n",
        "  print( numero + i)"
      ],
      "metadata": {
        "colab": {
          "base_uri": "https://localhost:8080/"
        },
        "id": "nUDfsToMjmIw",
        "outputId": "fea37200-edc1-4d5f-9433-26d699e8fbb3"
      },
      "execution_count": null,
      "outputs": [
        {
          "output_type": "stream",
          "name": "stdout",
          "text": [
            "ingresa un numero 55\n",
            "56\n",
            "57\n",
            "58\n",
            "59\n",
            "60\n",
            "61\n",
            "62\n",
            "63\n",
            "64\n",
            "65\n",
            "66\n",
            "67\n",
            "68\n",
            "69\n",
            "70\n",
            "71\n",
            "72\n",
            "73\n",
            "74\n",
            "75\n",
            "76\n",
            "77\n",
            "78\n",
            "79\n",
            "80\n",
            "81\n",
            "82\n",
            "83\n",
            "84\n",
            "85\n",
            "86\n",
            "87\n",
            "88\n",
            "89\n",
            "90\n",
            "91\n",
            "92\n",
            "93\n",
            "94\n",
            "95\n",
            "96\n",
            "97\n",
            "98\n",
            "99\n",
            "100\n",
            "101\n",
            "102\n",
            "103\n",
            "104\n",
            "105\n",
            "106\n",
            "107\n",
            "108\n",
            "109\n",
            "110\n",
            "111\n",
            "112\n",
            "113\n",
            "114\n",
            "115\n",
            "116\n",
            "117\n",
            "118\n",
            "119\n",
            "120\n",
            "121\n",
            "122\n",
            "123\n",
            "124\n",
            "125\n",
            "126\n",
            "127\n",
            "128\n",
            "129\n",
            "130\n",
            "131\n",
            "132\n",
            "133\n",
            "134\n",
            "135\n",
            "136\n",
            "137\n",
            "138\n",
            "139\n",
            "140\n",
            "141\n",
            "142\n",
            "143\n",
            "144\n",
            "145\n",
            "146\n",
            "147\n",
            "148\n",
            "149\n",
            "150\n",
            "151\n",
            "152\n",
            "153\n",
            "154\n"
          ]
        }
      ]
    },
    {
      "cell_type": "code",
      "source": [
        "#practica 5\n",
        "\"escribir un programa que pregunta su edad y muestre todos los años que ha cumplido desde 1\"\n",
        "edad =int(input(\"ingresa tu edad \"))\n",
        "for e in range (1 + edad ):\n",
        "  print(str( e ) + \" años \" )"
      ],
      "metadata": {
        "colab": {
          "base_uri": "https://localhost:8080/"
        },
        "id": "Gzw-LS8imS-J",
        "outputId": "5107755d-227e-4e81-c34a-f033b93f2062"
      },
      "execution_count": null,
      "outputs": [
        {
          "output_type": "stream",
          "name": "stdout",
          "text": [
            "ingresa tu edad 19\n",
            "0 años \n",
            "1 años \n",
            "2 años \n",
            "3 años \n",
            "4 años \n",
            "5 años \n",
            "6 años \n",
            "7 años \n",
            "8 años \n",
            "9 años \n",
            "10 años \n",
            "11 años \n",
            "12 años \n",
            "13 años \n",
            "14 años \n",
            "15 años \n",
            "16 años \n",
            "17 años \n",
            "18 años \n",
            "19 años \n"
          ]
        }
      ]
    },
    {
      "cell_type": "code",
      "source": [
        "# práctica 4\n",
        "\"escribir un programa que pida un entero positivo y muestre todos esos numeros desde el que escribi\"\n",
        "n = int(input(\"ingresa un numero \"))\n",
        "for i in range (0 ,n + 1,2):\n",
        "  print( i )"
      ],
      "metadata": {
        "colab": {
          "base_uri": "https://localhost:8080/"
        },
        "id": "qPFfpmvWqHMu",
        "outputId": "20867877-6985-405e-a545-98dce01a0bfe"
      },
      "execution_count": null,
      "outputs": [
        {
          "output_type": "stream",
          "name": "stdout",
          "text": [
            "ingresa un numero 9\n",
            "0\n",
            "2\n",
            "4\n",
            "6\n",
            "8\n"
          ]
        }
      ]
    },
    {
      "cell_type": "code",
      "source": [
        "# practica 59\n",
        "\"escribir un programa que solicite 10 numero y muestre la suma y promedio de estos \"\n",
        "s = 0\n",
        "p = 0\n",
        "for i in range(10):\n",
        "    n = int(input(\"Ingresa un número: \"))\n",
        "    s += n\n",
        "p = s / 10\n",
        "print(\"La suma es:\", s)\n",
        "print(\"El promedio es:\", p)"
      ],
      "metadata": {
        "colab": {
          "base_uri": "https://localhost:8080/"
        },
        "id": "cqBT5F3ZtCNL",
        "outputId": "1011fa1f-9cba-4486-c9a7-164f199cb327"
      },
      "execution_count": null,
      "outputs": [
        {
          "output_type": "stream",
          "name": "stdout",
          "text": [
            "Ingresa un número: 9\n",
            "Ingresa un número: 8\n",
            "Ingresa un número: 8\n",
            "Ingresa un número: 67\n",
            "Ingresa un número: 90\n",
            "Ingresa un número: 89\n",
            "Ingresa un número: 67\n",
            "Ingresa un número: 98\n",
            "Ingresa un número: 09\n",
            "Ingresa un número: 45\n",
            "La suma es: 490\n",
            "El promedio es: 49.0\n"
          ]
        }
      ]
    },
    {
      "cell_type": "code",
      "source": [
        "#practica 6\n",
        "\"escribir un programa que pida al usuario y muestre un triangulo \"\n",
        "n = int(input(\" ingresa un numero \"))\n",
        "\n",
        "for i in range(n):\n",
        "   print(\"*\" * (i + 1))\n"
      ],
      "metadata": {
        "colab": {
          "base_uri": "https://localhost:8080/"
        },
        "id": "uU7lKF-uwoA0",
        "outputId": "b2aa29dd-4a1c-472b-9af0-e7f3c94c15d4"
      },
      "execution_count": null,
      "outputs": [
        {
          "output_type": "stream",
          "name": "stdout",
          "text": [
            " ingresa un numero 8\n",
            "*\n",
            "**\n",
            "***\n",
            "****\n",
            "*****\n",
            "******\n",
            "*******\n",
            "********\n"
          ]
        }
      ]
    },
    {
      "cell_type": "code",
      "source": [
        " # pratica 7\n",
        "\"programa que muestre las tablas de multiplicar en for anidado del 1 al 10\"\n",
        "for i in range(1, 11):\n",
        " #    print(f  {i} \")\n",
        "    for k  in range(1, 11):\n",
        "     print(f\"{i * k:>3}\", end=\"\")\n",
        "    print()"
      ],
      "metadata": {
        "id": "SjQrZ7bqzPNs",
        "colab": {
          "base_uri": "https://localhost:8080/"
        },
        "outputId": "3fec6f2f-1e74-48fd-90f2-af11e17386a9"
      },
      "execution_count": 67,
      "outputs": [
        {
          "output_type": "stream",
          "name": "stdout",
          "text": [
            "  1  2  3  4  5  6  7  8  9 10\n",
            "  2  4  6  8 10 12 14 16 18 20\n",
            "  3  6  9 12 15 18 21 24 27 30\n",
            "  4  8 12 16 20 24 28 32 36 40\n",
            "  5 10 15 20 25 30 35 40 45 50\n",
            "  6 12 18 24 30 36 42 48 54 60\n",
            "  7 14 21 28 35 42 49 56 63 70\n",
            "  8 16 24 32 40 48 56 64 72 80\n",
            "  9 18 27 36 45 54 63 72 81 90\n",
            " 10 20 30 40 50 60 70 80 90100\n"
          ]
        }
      ]
    },
    {
      "cell_type": "code",
      "source": [
        "ç+"
      ],
      "metadata": {
        "id": "0ykzH3Ug7KvR"
      },
      "execution_count": null,
      "outputs": []
    }
  ]
}