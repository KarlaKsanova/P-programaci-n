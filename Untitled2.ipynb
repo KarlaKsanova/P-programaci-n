{
  "nbformat": 4,
  "nbformat_minor": 0,
  "metadata": {
    "colab": {
      "provenance": [],
      "authorship_tag": "ABX9TyN12Kc98edaaePhNHJ+Vnxn",
      "include_colab_link": true
    },
    "kernelspec": {
      "name": "python3",
      "display_name": "Python 3"
    },
    "language_info": {
      "name": "python"
    }
  },
  "cells": [
    {
      "cell_type": "markdown",
      "metadata": {
        "id": "view-in-github",
        "colab_type": "text"
      },
      "source": [
        "<a href=\"https://colab.research.google.com/github/KarlaKsanova/P-programaci-n/blob/main/Untitled2.ipynb\" target=\"_parent\"><img src=\"https://colab.research.google.com/assets/colab-badge.svg\" alt=\"Open In Colab\"/></a>"
      ]
    },
    {
      "cell_type": "markdown",
      "source": [
        "#PRACTICA 1 TIPOS DE DATOS SIMPLES"
      ],
      "metadata": {
        "id": "cx0dWCg6r1QL"
      }
    },
    {
      "cell_type": "code",
      "source": [
        "print(\"URC-ciencia de datos\")"
      ],
      "metadata": {
        "colab": {
          "base_uri": "https://localhost:8080/"
        },
        "id": "gvZlI0WysYnA",
        "outputId": "ba2b9ea2-0ca9-4c1c-9dbe-9c0b4ea3e035"
      },
      "execution_count": null,
      "outputs": [
        {
          "output_type": "stream",
          "name": "stdout",
          "text": [
            "URC-ciencia de datos\n"
          ]
        }
      ]
    },
    {
      "cell_type": "code",
      "source": [
        "#práctica 2\n",
        "mensaje = (\"Bienvenidos 2024 URC \")\n",
        "print (\"Hola\")\n",
        "print(mensaje)"
      ],
      "metadata": {
        "colab": {
          "base_uri": "https://localhost:8080/"
        },
        "id": "cEGLigRDtDnS",
        "outputId": "4ee5a3cb-edee-4c03-fe5b-dcc7a8c63056"
      },
      "execution_count": null,
      "outputs": [
        {
          "output_type": "stream",
          "name": "stdout",
          "text": [
            "Hola\n",
            "Bienvenidos 2024 URC \n"
          ]
        }
      ]
    },
    {
      "cell_type": "code",
      "source": [
        "#práctica 3 programa que pide nombre\n",
        "name = input(\"introduzca su nombre: \")\n",
        "print(\"hola  \" + name + \"!\")\n"
      ],
      "metadata": {
        "colab": {
          "base_uri": "https://localhost:8080/"
        },
        "id": "_zGg7v0rtZ0a",
        "outputId": "64889cfe-a08f-4e64-87a5-ceae9f70a8c0"
      },
      "execution_count": null,
      "outputs": [
        {
          "output_type": "stream",
          "name": "stdout",
          "text": [
            "introduzca su nombre: Karla \n",
            "hola  Karla !\n"
          ]
        }
      ]
    },
    {
      "cell_type": "code",
      "source": [
        "#práctica 4\n",
        "name = input(\"¿como te llamas? \")\n",
        "n = input(\"introduce un número \")\n",
        "print((name + \"\\n\") * int (n))"
      ],
      "metadata": {
        "id": "gCV1hglNula8",
        "colab": {
          "base_uri": "https://localhost:8080/"
        },
        "outputId": "ea9c33ca-f767-4cb0-84a9-3431a3af3ef3"
      },
      "execution_count": null,
      "outputs": [
        {
          "output_type": "stream",
          "name": "stdout",
          "text": [
            "¿como te llamas? Karla\n",
            "introduce un número 3\n",
            "Karla\n",
            "Karla\n",
            "Karla\n",
            "\n"
          ]
        }
      ]
    },
    {
      "cell_type": "code",
      "source": [
        "#práctica 5 ESCRIR UN PROGRAMA QUE MUESTRE EL NOMBRE EN MAYÚSCULAS\n",
        "name = input(\"¿Cómo te llamas? \")\n",
        "print(name.upper() + \" tiene \" + str(len(name)) + \" letras\")"
      ],
      "metadata": {
        "id": "ILqpRA7fv1vM",
        "colab": {
          "base_uri": "https://localhost:8080/"
        },
        "outputId": "8d75f554-a15e-4da7-96d1-d24a2d8215a4"
      },
      "execution_count": null,
      "outputs": [
        {
          "output_type": "stream",
          "name": "stdout",
          "text": [
            "¿Cómo te llamas? Karla\n",
            "KARLA tiene 5 letras\n"
          ]
        }
      ]
    },
    {
      "cell_type": "code",
      "source": [
        "#Práctica 6 programa que da las horas trabajadas\n",
        "name = input(\"Introduce tu nombre: \")\n",
        "print(\"Hola, \" + name + \";\")\n",
        "h = float(input(\" Introduce horas trabajadas  \"))\n",
        "c = float(input(\"Introduce el costo por hora \"))\n",
        "paga = h*c\n",
        "print(name + \" Tu paga es \" + str(paga))"
      ],
      "metadata": {
        "id": "MUKFKwYH0Nym",
        "colab": {
          "base_uri": "https://localhost:8080/"
        },
        "outputId": "4b60714e-e549-4a0d-e994-accf290e01e0"
      },
      "execution_count": null,
      "outputs": [
        {
          "output_type": "stream",
          "name": "stdout",
          "text": [
            "Introduce tu nombre: Karla \n",
            "Hola, Karla ;\n",
            " Introduce horas trabajadas  8\n",
            "Introduce el costo por hora 60\n",
            "Karla  Tu paga es 480.0\n"
          ]
        }
      ]
    },
    {
      "cell_type": "code",
      "source": [
        "#práctica 7"
      ],
      "metadata": {
        "id": "Vlqc6hkl0NNK"
      },
      "execution_count": null,
      "outputs": []
    },
    {
      "cell_type": "code",
      "source": [],
      "metadata": {
        "id": "MfFnjyBU0MtJ"
      },
      "execution_count": null,
      "outputs": []
    }
  ]
}